{
 "cells": [
  {
   "cell_type": "code",
   "execution_count": 1,
   "id": "f152456e",
   "metadata": {
    "scrolled": true
   },
   "outputs": [],
   "source": [
    "import sympy as sp\n",
    "\n",
    "# our target is to get the experssion of elastic energy related to total strain and other order parameters\n",
    "# For example, magnetization, which will show up in the eigenstrains\n",
    "# experession of eigenstrain\n",
    "# eigenstrain related to magnetization\n",
    "ep0ms11, ep0ms22, ep0ms33, ep0ms12, ep0ms13, ep0ms23 = sp.symbols('epsilon^ms_11, \\\n",
    "                                                                   epsilon^ms_22, \\\n",
    "                                                                   epsilon^ms_33, \\\n",
    "                                                                   epsilon^ms_12, \\\n",
    "                                                                   epsilon^ms_13, \\\n",
    "                                                                   epsilon^ms_23')\n",
    "# magnetization\n",
    "m1, m2, m3 = sp.symbols('m1, m2, m3')\n",
    "# expression of eigenstrain related to magnetization\n",
    "lambdas = sp.symbols('lambda_s')\n",
    "ep0ms11 = 1.5 * lambdas * (m1 * m1 - 1/3)\n",
    "ep0ms22 = 1.5 * lambdas * (m2 * m2 - 1/3)\n",
    "ep0ms33 = 1.5 * lambdas * (m3 * m3 - 1/3)\n",
    "ep0ms12 = 1.5 * lambdas * (m1 * m2)\n",
    "ep0ms13 = 1.5 * lambdas * (m1 * m3)\n",
    "ep0ms23 = 1.5 * lambdas * (m2 * m3)\n",
    "# eigenstrain related to phase transformation (in my specifi case)\n",
    "ep0pt11, ep0pt22, ep0pt33, ep0pt12, ep0pt13, ep0pt23 = sp.symbols('epsilon^pt_11, \\\n",
    "                                                                   epsilon^pt_22, \\\n",
    "                                                                   epsilon^pt_33, \\\n",
    "                                                                   epsilon^pt_12, \\\n",
    "                                                                   epsilon^pt_13, \\\n",
    "                                                                   epsilon^pt_23')\n",
    "# phase transition order parameters\n",
    "eta1, eta2, eta3 = sp.symbols('eta1, eta2, eta3')\n",
    "# experssion of eigenstrain related to phase transition\n",
    "param1, param3 = sp.symbols('epsilon_a, epsilon_c')\n",
    "ep0pt11 = param3 * eta1 + param1 * (eta2 + eta3)\n",
    "ep0pt22 = param3 * eta2 + param1 * (eta1 + eta3)\n",
    "ep0pt33 = param3 * eta3 + param1 * (eta1 + eta2)\n",
    "ep0pt12 = 0\n",
    "ep0pt13 = 0\n",
    "ep0pt23 = 0\n",
    "# the total eigenstrain is the sum of the two above\n",
    "# total eigenstrain\n",
    "ep011, ep022, ep033, ep012, ep013, ep023 = sp.symbols('epsilon^0_11, \\\n",
    "                                                       epsilon^0_22, \\\n",
    "                                                       epsilon^0_33, \\\n",
    "                                                       epsilon^0_12, \\\n",
    "                                                       epsilon^0_13, \\\n",
    "                                                       epsilon^0_23')\n",
    "# add two eigenstrains to get the total eigen strain\n",
    "ep011 = (eta1**2 + eta2**2 + eta3**2) * ep0ms11 + ep0pt11\n",
    "ep022 = (eta1**2 + eta2**2 + eta3**2) * ep0ms22 + ep0pt22\n",
    "ep033 = (eta1**2 + eta2**2 + eta3**2) * ep0ms33 + ep0pt33\n",
    "ep012 = (eta1**2 + eta2**2 + eta3**2) * ep0ms12 + ep0pt12\n",
    "ep013 = (eta1**2 + eta2**2 + eta3**2) * ep0ms13 + ep0pt13\n",
    "ep023 = (eta1**2 + eta2**2 + eta3**2) * ep0ms23 + ep0pt23\n",
    "# total strain and elastic strain\n",
    "# total strain\n",
    "ep11, ep22, ep33, ep12, ep13, ep23 = sp.symbols('epsilon_11, \\\n",
    "                                                 epsilon_22, \\\n",
    "                                                 epsilon_33, \\\n",
    "                                                 epsilon_12, \\\n",
    "                                                 epsilon_13, \\\n",
    "                                                 epsilon_23')\n",
    "# elastic strain\n",
    "e11, e22, e33, e12, e13, e23 = sp.symbols('e11, e22, e33, e12, e13, e23')\n",
    "# relationship between elastic strain, total strain and eigenstrain\n",
    "e11 = ep11 - ep011\n",
    "e22 = ep22 - ep022\n",
    "e33 = ep33 - ep033\n",
    "e12 = ep12 - ep012\n",
    "e13 = ep13 - ep013\n",
    "e23 = ep23 - ep023\n",
    "# elastic stiffness\n",
    "c11, c12, c44 = sp.symbols('c11, c12, c44')\n",
    "# expression of elastic energy \n",
    "# (cubic material with three independent elastic constants)\n",
    "fe = 0.5*c11*(e11**2 + e22**2 + e33**2) + \\\n",
    "     c12 * (e11 * e22 + e22 * e33 + e11 * e33) + \\\n",
    "     2 * c44 * (e12**2 + e23**2 + e13**2)\n",
    "\n"
   ]
  },
  {
   "cell_type": "code",
   "execution_count": 2,
   "id": "327eecaf",
   "metadata": {
    "scrolled": true
   },
   "outputs": [
    {
     "data": {
      "text/latex": [
       "$\\displaystyle 0.5 c_{11} \\cdot \\left(2.25 \\left(0.666666666666667 \\epsilon_{11} - 0.666666666666667 \\epsilon_{a} \\left(\\eta_{2} + \\eta_{3}\\right) - 0.666666666666667 \\epsilon_{c} \\eta_{1} - \\lambda_{s} \\left(m_{1}^{2} - 0.333333333333333\\right) \\left(\\eta_{1}^{2} + \\eta_{2}^{2} + \\eta_{3}^{2}\\right)\\right)^{2} + 2.25 \\left(0.666666666666667 \\epsilon_{22} - 0.666666666666667 \\epsilon_{a} \\left(\\eta_{1} + \\eta_{3}\\right) - 0.666666666666667 \\epsilon_{c} \\eta_{2} - \\lambda_{s} \\left(m_{2}^{2} - 0.333333333333333\\right) \\left(\\eta_{1}^{2} + \\eta_{2}^{2} + \\eta_{3}^{2}\\right)\\right)^{2} + 2.25 \\left(0.666666666666667 \\epsilon_{33} - 0.666666666666667 \\epsilon_{a} \\left(\\eta_{1} + \\eta_{2}\\right) - 0.666666666666667 \\epsilon_{c} \\eta_{3} - \\lambda_{s} \\left(m_{3}^{2} - 0.333333333333333\\right) \\left(\\eta_{1}^{2} + \\eta_{2}^{2} + \\eta_{3}^{2}\\right)\\right)^{2}\\right) + c_{12} \\left(\\left(\\epsilon_{11} - \\epsilon_{a} \\left(\\eta_{2} + \\eta_{3}\\right) - \\epsilon_{c} \\eta_{1} - 1.5 \\lambda_{s} \\left(m_{1}^{2} - 0.333333333333333\\right) \\left(\\eta_{1}^{2} + \\eta_{2}^{2} + \\eta_{3}^{2}\\right)\\right) \\left(\\epsilon_{22} - \\epsilon_{a} \\left(\\eta_{1} + \\eta_{3}\\right) - \\epsilon_{c} \\eta_{2} - 1.5 \\lambda_{s} \\left(m_{2}^{2} - 0.333333333333333\\right) \\left(\\eta_{1}^{2} + \\eta_{2}^{2} + \\eta_{3}^{2}\\right)\\right) + \\left(\\epsilon_{11} - \\epsilon_{a} \\left(\\eta_{2} + \\eta_{3}\\right) - \\epsilon_{c} \\eta_{1} - 1.5 \\lambda_{s} \\left(m_{1}^{2} - 0.333333333333333\\right) \\left(\\eta_{1}^{2} + \\eta_{2}^{2} + \\eta_{3}^{2}\\right)\\right) \\left(\\epsilon_{33} - \\epsilon_{a} \\left(\\eta_{1} + \\eta_{2}\\right) - \\epsilon_{c} \\eta_{3} - 1.5 \\lambda_{s} \\left(m_{3}^{2} - 0.333333333333333\\right) \\left(\\eta_{1}^{2} + \\eta_{2}^{2} + \\eta_{3}^{2}\\right)\\right) + \\left(\\epsilon_{22} - \\epsilon_{a} \\left(\\eta_{1} + \\eta_{3}\\right) - \\epsilon_{c} \\eta_{2} - 1.5 \\lambda_{s} \\left(m_{2}^{2} - 0.333333333333333\\right) \\left(\\eta_{1}^{2} + \\eta_{2}^{2} + \\eta_{3}^{2}\\right)\\right) \\left(\\epsilon_{33} - \\epsilon_{a} \\left(\\eta_{1} + \\eta_{2}\\right) - \\epsilon_{c} \\eta_{3} - 1.5 \\lambda_{s} \\left(m_{3}^{2} - 0.333333333333333\\right) \\left(\\eta_{1}^{2} + \\eta_{2}^{2} + \\eta_{3}^{2}\\right)\\right)\\right) + 2 c_{44} \\cdot \\left(2.25 \\left(0.666666666666667 \\epsilon_{12} - \\lambda_{s} m_{1} m_{2} \\left(\\eta_{1}^{2} + \\eta_{2}^{2} + \\eta_{3}^{2}\\right)\\right)^{2} + 2.25 \\left(0.666666666666667 \\epsilon_{13} - \\lambda_{s} m_{1} m_{3} \\left(\\eta_{1}^{2} + \\eta_{2}^{2} + \\eta_{3}^{2}\\right)\\right)^{2} + 2.25 \\left(0.666666666666667 \\epsilon_{23} - \\lambda_{s} m_{2} m_{3} \\left(\\eta_{1}^{2} + \\eta_{2}^{2} + \\eta_{3}^{2}\\right)\\right)^{2}\\right)$"
      ],
      "text/plain": [
       "0.5*c11*(2.25*(0.666666666666667*epsilon_11 - 0.666666666666667*epsilon_a*(eta2 + eta3) - 0.666666666666667*epsilon_c*eta1 - lambda_s*(m1**2 - 0.333333333333333)*(eta1**2 + eta2**2 + eta3**2))**2 + 2.25*(0.666666666666667*epsilon_22 - 0.666666666666667*epsilon_a*(eta1 + eta3) - 0.666666666666667*epsilon_c*eta2 - lambda_s*(m2**2 - 0.333333333333333)*(eta1**2 + eta2**2 + eta3**2))**2 + 2.25*(0.666666666666667*epsilon_33 - 0.666666666666667*epsilon_a*(eta1 + eta2) - 0.666666666666667*epsilon_c*eta3 - lambda_s*(m3**2 - 0.333333333333333)*(eta1**2 + eta2**2 + eta3**2))**2) + c12*((epsilon_11 - epsilon_a*(eta2 + eta3) - epsilon_c*eta1 - 1.5*lambda_s*(m1**2 - 0.333333333333333)*(eta1**2 + eta2**2 + eta3**2))*(epsilon_22 - epsilon_a*(eta1 + eta3) - epsilon_c*eta2 - 1.5*lambda_s*(m2**2 - 0.333333333333333)*(eta1**2 + eta2**2 + eta3**2)) + (epsilon_11 - epsilon_a*(eta2 + eta3) - epsilon_c*eta1 - 1.5*lambda_s*(m1**2 - 0.333333333333333)*(eta1**2 + eta2**2 + eta3**2))*(epsilon_33 - epsilon_a*(eta1 + eta2) - epsilon_c*eta3 - 1.5*lambda_s*(m3**2 - 0.333333333333333)*(eta1**2 + eta2**2 + eta3**2)) + (epsilon_22 - epsilon_a*(eta1 + eta3) - epsilon_c*eta2 - 1.5*lambda_s*(m2**2 - 0.333333333333333)*(eta1**2 + eta2**2 + eta3**2))*(epsilon_33 - epsilon_a*(eta1 + eta2) - epsilon_c*eta3 - 1.5*lambda_s*(m3**2 - 0.333333333333333)*(eta1**2 + eta2**2 + eta3**2))) + 2*c44*(2.25*(0.666666666666667*epsilon_12 - lambda_s*m1*m2*(eta1**2 + eta2**2 + eta3**2))**2 + 2.25*(0.666666666666667*epsilon_13 - lambda_s*m1*m3*(eta1**2 + eta2**2 + eta3**2))**2 + 2.25*(0.666666666666667*epsilon_23 - lambda_s*m2*m3*(eta1**2 + eta2**2 + eta3**2))**2)"
      ]
     },
     "execution_count": 2,
     "metadata": {},
     "output_type": "execute_result"
    }
   ],
   "source": [
    "fe"
   ]
  },
  {
   "cell_type": "code",
   "execution_count": 3,
   "id": "1e5af17f",
   "metadata": {
    "scrolled": true
   },
   "outputs": [
    {
     "name": "stdout",
     "output_type": "stream",
     "text": [
      "m1\n"
     ]
    },
    {
     "data": {
      "text/latex": [
       "$\\displaystyle - 4.5 c_{11} \\lambda_{s} m_{1} \\left(\\eta_{1}^{2} + \\eta_{2}^{2} + \\eta_{3}^{2}\\right) \\left(0.666666666666667 \\epsilon_{11} - 0.666666666666667 \\epsilon_{a} \\left(\\eta_{2} + \\eta_{3}\\right) - 0.666666666666667 \\epsilon_{c} \\eta_{1} - \\lambda_{s} \\left(m_{1}^{2} - 0.333333333333333\\right) \\left(\\eta_{1}^{2} + \\eta_{2}^{2} + \\eta_{3}^{2}\\right)\\right) + c_{12} \\left(- 3.0 \\lambda_{s} m_{1} \\left(\\eta_{1}^{2} + \\eta_{2}^{2} + \\eta_{3}^{2}\\right) \\left(\\epsilon_{22} - \\epsilon_{a} \\left(\\eta_{1} + \\eta_{3}\\right) - \\epsilon_{c} \\eta_{2} - 1.5 \\lambda_{s} \\left(m_{2}^{2} - 0.333333333333333\\right) \\left(\\eta_{1}^{2} + \\eta_{2}^{2} + \\eta_{3}^{2}\\right)\\right) - 3.0 \\lambda_{s} m_{1} \\left(\\eta_{1}^{2} + \\eta_{2}^{2} + \\eta_{3}^{2}\\right) \\left(\\epsilon_{33} - \\epsilon_{a} \\left(\\eta_{1} + \\eta_{2}\\right) - \\epsilon_{c} \\eta_{3} - 1.5 \\lambda_{s} \\left(m_{3}^{2} - 0.333333333333333\\right) \\left(\\eta_{1}^{2} + \\eta_{2}^{2} + \\eta_{3}^{2}\\right)\\right)\\right) + 2 c_{44} \\left(- 4.5 \\lambda_{s} m_{2} \\cdot \\left(0.666666666666667 \\epsilon_{12} - \\lambda_{s} m_{1} m_{2} \\left(\\eta_{1}^{2} + \\eta_{2}^{2} + \\eta_{3}^{2}\\right)\\right) \\left(\\eta_{1}^{2} + \\eta_{2}^{2} + \\eta_{3}^{2}\\right) - 4.5 \\lambda_{s} m_{3} \\cdot \\left(0.666666666666667 \\epsilon_{13} - \\lambda_{s} m_{1} m_{3} \\left(\\eta_{1}^{2} + \\eta_{2}^{2} + \\eta_{3}^{2}\\right)\\right) \\left(\\eta_{1}^{2} + \\eta_{2}^{2} + \\eta_{3}^{2}\\right)\\right)$"
      ],
      "text/plain": [
       "-4.5*c11*lambda_s*m1*(eta1**2 + eta2**2 + eta3**2)*(0.666666666666667*epsilon_11 - 0.666666666666667*epsilon_a*(eta2 + eta3) - 0.666666666666667*epsilon_c*eta1 - lambda_s*(m1**2 - 0.333333333333333)*(eta1**2 + eta2**2 + eta3**2)) + c12*(-3.0*lambda_s*m1*(eta1**2 + eta2**2 + eta3**2)*(epsilon_22 - epsilon_a*(eta1 + eta3) - epsilon_c*eta2 - 1.5*lambda_s*(m2**2 - 0.333333333333333)*(eta1**2 + eta2**2 + eta3**2)) - 3.0*lambda_s*m1*(eta1**2 + eta2**2 + eta3**2)*(epsilon_33 - epsilon_a*(eta1 + eta2) - epsilon_c*eta3 - 1.5*lambda_s*(m3**2 - 0.333333333333333)*(eta1**2 + eta2**2 + eta3**2))) + 2*c44*(-4.5*lambda_s*m2*(0.666666666666667*epsilon_12 - lambda_s*m1*m2*(eta1**2 + eta2**2 + eta3**2))*(eta1**2 + eta2**2 + eta3**2) - 4.5*lambda_s*m3*(0.666666666666667*epsilon_13 - lambda_s*m1*m3*(eta1**2 + eta2**2 + eta3**2))*(eta1**2 + eta2**2 + eta3**2))"
      ]
     },
     "execution_count": 3,
     "metadata": {},
     "output_type": "execute_result"
    }
   ],
   "source": [
    "print('m1')\n",
    "sp.diff(fe, m1)"
   ]
  },
  {
   "cell_type": "code",
   "execution_count": 4,
   "id": "c7c96600",
   "metadata": {
    "scrolled": true
   },
   "outputs": [
    {
     "name": "stdout",
     "output_type": "stream",
     "text": [
      "m1\n"
     ]
    },
    {
     "data": {
      "text/latex": [
       "$\\displaystyle - 4.5 c_{11} \\lambda_{s} m_{2} \\left(\\eta_{1}^{2} + \\eta_{2}^{2} + \\eta_{3}^{2}\\right) \\left(0.666666666666667 \\epsilon_{22} - 0.666666666666667 \\epsilon_{a} \\left(\\eta_{1} + \\eta_{3}\\right) - 0.666666666666667 \\epsilon_{c} \\eta_{2} - \\lambda_{s} \\left(m_{2}^{2} - 0.333333333333333\\right) \\left(\\eta_{1}^{2} + \\eta_{2}^{2} + \\eta_{3}^{2}\\right)\\right) + c_{12} \\left(- 3.0 \\lambda_{s} m_{2} \\left(\\eta_{1}^{2} + \\eta_{2}^{2} + \\eta_{3}^{2}\\right) \\left(\\epsilon_{11} - \\epsilon_{a} \\left(\\eta_{2} + \\eta_{3}\\right) - \\epsilon_{c} \\eta_{1} - 1.5 \\lambda_{s} \\left(m_{1}^{2} - 0.333333333333333\\right) \\left(\\eta_{1}^{2} + \\eta_{2}^{2} + \\eta_{3}^{2}\\right)\\right) - 3.0 \\lambda_{s} m_{2} \\left(\\eta_{1}^{2} + \\eta_{2}^{2} + \\eta_{3}^{2}\\right) \\left(\\epsilon_{33} - \\epsilon_{a} \\left(\\eta_{1} + \\eta_{2}\\right) - \\epsilon_{c} \\eta_{3} - 1.5 \\lambda_{s} \\left(m_{3}^{2} - 0.333333333333333\\right) \\left(\\eta_{1}^{2} + \\eta_{2}^{2} + \\eta_{3}^{2}\\right)\\right)\\right) + 2 c_{44} \\left(- 4.5 \\lambda_{s} m_{1} \\cdot \\left(0.666666666666667 \\epsilon_{12} - \\lambda_{s} m_{1} m_{2} \\left(\\eta_{1}^{2} + \\eta_{2}^{2} + \\eta_{3}^{2}\\right)\\right) \\left(\\eta_{1}^{2} + \\eta_{2}^{2} + \\eta_{3}^{2}\\right) - 4.5 \\lambda_{s} m_{3} \\cdot \\left(0.666666666666667 \\epsilon_{23} - \\lambda_{s} m_{2} m_{3} \\left(\\eta_{1}^{2} + \\eta_{2}^{2} + \\eta_{3}^{2}\\right)\\right) \\left(\\eta_{1}^{2} + \\eta_{2}^{2} + \\eta_{3}^{2}\\right)\\right)$"
      ],
      "text/plain": [
       "-4.5*c11*lambda_s*m2*(eta1**2 + eta2**2 + eta3**2)*(0.666666666666667*epsilon_22 - 0.666666666666667*epsilon_a*(eta1 + eta3) - 0.666666666666667*epsilon_c*eta2 - lambda_s*(m2**2 - 0.333333333333333)*(eta1**2 + eta2**2 + eta3**2)) + c12*(-3.0*lambda_s*m2*(eta1**2 + eta2**2 + eta3**2)*(epsilon_11 - epsilon_a*(eta2 + eta3) - epsilon_c*eta1 - 1.5*lambda_s*(m1**2 - 0.333333333333333)*(eta1**2 + eta2**2 + eta3**2)) - 3.0*lambda_s*m2*(eta1**2 + eta2**2 + eta3**2)*(epsilon_33 - epsilon_a*(eta1 + eta2) - epsilon_c*eta3 - 1.5*lambda_s*(m3**2 - 0.333333333333333)*(eta1**2 + eta2**2 + eta3**2))) + 2*c44*(-4.5*lambda_s*m1*(0.666666666666667*epsilon_12 - lambda_s*m1*m2*(eta1**2 + eta2**2 + eta3**2))*(eta1**2 + eta2**2 + eta3**2) - 4.5*lambda_s*m3*(0.666666666666667*epsilon_23 - lambda_s*m2*m3*(eta1**2 + eta2**2 + eta3**2))*(eta1**2 + eta2**2 + eta3**2))"
      ]
     },
     "execution_count": 4,
     "metadata": {},
     "output_type": "execute_result"
    }
   ],
   "source": [
    "print('m1')\n",
    "sp.diff(fe, m2)"
   ]
  },
  {
   "cell_type": "code",
   "execution_count": 5,
   "id": "83344aab",
   "metadata": {
    "scrolled": true
   },
   "outputs": [
    {
     "name": "stdout",
     "output_type": "stream",
     "text": [
      "m1\n"
     ]
    },
    {
     "data": {
      "text/latex": [
       "$\\displaystyle - 4.5 c_{11} \\lambda_{s} m_{3} \\left(\\eta_{1}^{2} + \\eta_{2}^{2} + \\eta_{3}^{2}\\right) \\left(0.666666666666667 \\epsilon_{33} - 0.666666666666667 \\epsilon_{a} \\left(\\eta_{1} + \\eta_{2}\\right) - 0.666666666666667 \\epsilon_{c} \\eta_{3} - \\lambda_{s} \\left(m_{3}^{2} - 0.333333333333333\\right) \\left(\\eta_{1}^{2} + \\eta_{2}^{2} + \\eta_{3}^{2}\\right)\\right) + c_{12} \\left(- 3.0 \\lambda_{s} m_{3} \\left(\\eta_{1}^{2} + \\eta_{2}^{2} + \\eta_{3}^{2}\\right) \\left(\\epsilon_{11} - \\epsilon_{a} \\left(\\eta_{2} + \\eta_{3}\\right) - \\epsilon_{c} \\eta_{1} - 1.5 \\lambda_{s} \\left(m_{1}^{2} - 0.333333333333333\\right) \\left(\\eta_{1}^{2} + \\eta_{2}^{2} + \\eta_{3}^{2}\\right)\\right) - 3.0 \\lambda_{s} m_{3} \\left(\\eta_{1}^{2} + \\eta_{2}^{2} + \\eta_{3}^{2}\\right) \\left(\\epsilon_{22} - \\epsilon_{a} \\left(\\eta_{1} + \\eta_{3}\\right) - \\epsilon_{c} \\eta_{2} - 1.5 \\lambda_{s} \\left(m_{2}^{2} - 0.333333333333333\\right) \\left(\\eta_{1}^{2} + \\eta_{2}^{2} + \\eta_{3}^{2}\\right)\\right)\\right) + 2 c_{44} \\left(- 4.5 \\lambda_{s} m_{1} \\cdot \\left(0.666666666666667 \\epsilon_{13} - \\lambda_{s} m_{1} m_{3} \\left(\\eta_{1}^{2} + \\eta_{2}^{2} + \\eta_{3}^{2}\\right)\\right) \\left(\\eta_{1}^{2} + \\eta_{2}^{2} + \\eta_{3}^{2}\\right) - 4.5 \\lambda_{s} m_{2} \\cdot \\left(0.666666666666667 \\epsilon_{23} - \\lambda_{s} m_{2} m_{3} \\left(\\eta_{1}^{2} + \\eta_{2}^{2} + \\eta_{3}^{2}\\right)\\right) \\left(\\eta_{1}^{2} + \\eta_{2}^{2} + \\eta_{3}^{2}\\right)\\right)$"
      ],
      "text/plain": [
       "-4.5*c11*lambda_s*m3*(eta1**2 + eta2**2 + eta3**2)*(0.666666666666667*epsilon_33 - 0.666666666666667*epsilon_a*(eta1 + eta2) - 0.666666666666667*epsilon_c*eta3 - lambda_s*(m3**2 - 0.333333333333333)*(eta1**2 + eta2**2 + eta3**2)) + c12*(-3.0*lambda_s*m3*(eta1**2 + eta2**2 + eta3**2)*(epsilon_11 - epsilon_a*(eta2 + eta3) - epsilon_c*eta1 - 1.5*lambda_s*(m1**2 - 0.333333333333333)*(eta1**2 + eta2**2 + eta3**2)) - 3.0*lambda_s*m3*(eta1**2 + eta2**2 + eta3**2)*(epsilon_22 - epsilon_a*(eta1 + eta3) - epsilon_c*eta2 - 1.5*lambda_s*(m2**2 - 0.333333333333333)*(eta1**2 + eta2**2 + eta3**2))) + 2*c44*(-4.5*lambda_s*m1*(0.666666666666667*epsilon_13 - lambda_s*m1*m3*(eta1**2 + eta2**2 + eta3**2))*(eta1**2 + eta2**2 + eta3**2) - 4.5*lambda_s*m2*(0.666666666666667*epsilon_23 - lambda_s*m2*m3*(eta1**2 + eta2**2 + eta3**2))*(eta1**2 + eta2**2 + eta3**2))"
      ]
     },
     "execution_count": 5,
     "metadata": {},
     "output_type": "execute_result"
    }
   ],
   "source": [
    "print('m1')\n",
    "sp.diff(fe, m3)"
   ]
  },
  {
   "cell_type": "code",
   "execution_count": 6,
   "id": "656992e0",
   "metadata": {},
   "outputs": [
    {
     "name": "stdout",
     "output_type": "stream",
     "text": [
      "eta1\n"
     ]
    },
    {
     "data": {
      "text/latex": [
       "$\\displaystyle 0.5 c_{11} \\cdot \\left(2.25 \\left(- 1.33333333333333 \\epsilon_{a} - 4 \\eta_{1} \\lambda_{s} \\left(m_{2}^{2} - 0.333333333333333\\right)\\right) \\left(0.666666666666667 \\epsilon_{22} - 0.666666666666667 \\epsilon_{a} \\left(\\eta_{1} + \\eta_{3}\\right) - 0.666666666666667 \\epsilon_{c} \\eta_{2} - \\lambda_{s} \\left(m_{2}^{2} - 0.333333333333333\\right) \\left(\\eta_{1}^{2} + \\eta_{2}^{2} + \\eta_{3}^{2}\\right)\\right) + 2.25 \\left(- 1.33333333333333 \\epsilon_{a} - 4 \\eta_{1} \\lambda_{s} \\left(m_{3}^{2} - 0.333333333333333\\right)\\right) \\left(0.666666666666667 \\epsilon_{33} - 0.666666666666667 \\epsilon_{a} \\left(\\eta_{1} + \\eta_{2}\\right) - 0.666666666666667 \\epsilon_{c} \\eta_{3} - \\lambda_{s} \\left(m_{3}^{2} - 0.333333333333333\\right) \\left(\\eta_{1}^{2} + \\eta_{2}^{2} + \\eta_{3}^{2}\\right)\\right) + 2.25 \\left(- 1.33333333333333 \\epsilon_{c} - 4 \\eta_{1} \\lambda_{s} \\left(m_{1}^{2} - 0.333333333333333\\right)\\right) \\left(0.666666666666667 \\epsilon_{11} - 0.666666666666667 \\epsilon_{a} \\left(\\eta_{2} + \\eta_{3}\\right) - 0.666666666666667 \\epsilon_{c} \\eta_{1} - \\lambda_{s} \\left(m_{1}^{2} - 0.333333333333333\\right) \\left(\\eta_{1}^{2} + \\eta_{2}^{2} + \\eta_{3}^{2}\\right)\\right)\\right) + c_{12} \\left(\\left(- \\epsilon_{a} - 3.0 \\eta_{1} \\lambda_{s} \\left(m_{2}^{2} - 0.333333333333333\\right)\\right) \\left(\\epsilon_{11} - \\epsilon_{a} \\left(\\eta_{2} + \\eta_{3}\\right) - \\epsilon_{c} \\eta_{1} - 1.5 \\lambda_{s} \\left(m_{1}^{2} - 0.333333333333333\\right) \\left(\\eta_{1}^{2} + \\eta_{2}^{2} + \\eta_{3}^{2}\\right)\\right) + \\left(- \\epsilon_{a} - 3.0 \\eta_{1} \\lambda_{s} \\left(m_{2}^{2} - 0.333333333333333\\right)\\right) \\left(\\epsilon_{33} - \\epsilon_{a} \\left(\\eta_{1} + \\eta_{2}\\right) - \\epsilon_{c} \\eta_{3} - 1.5 \\lambda_{s} \\left(m_{3}^{2} - 0.333333333333333\\right) \\left(\\eta_{1}^{2} + \\eta_{2}^{2} + \\eta_{3}^{2}\\right)\\right) + \\left(- \\epsilon_{a} - 3.0 \\eta_{1} \\lambda_{s} \\left(m_{3}^{2} - 0.333333333333333\\right)\\right) \\left(\\epsilon_{11} - \\epsilon_{a} \\left(\\eta_{2} + \\eta_{3}\\right) - \\epsilon_{c} \\eta_{1} - 1.5 \\lambda_{s} \\left(m_{1}^{2} - 0.333333333333333\\right) \\left(\\eta_{1}^{2} + \\eta_{2}^{2} + \\eta_{3}^{2}\\right)\\right) + \\left(- \\epsilon_{a} - 3.0 \\eta_{1} \\lambda_{s} \\left(m_{3}^{2} - 0.333333333333333\\right)\\right) \\left(\\epsilon_{22} - \\epsilon_{a} \\left(\\eta_{1} + \\eta_{3}\\right) - \\epsilon_{c} \\eta_{2} - 1.5 \\lambda_{s} \\left(m_{2}^{2} - 0.333333333333333\\right) \\left(\\eta_{1}^{2} + \\eta_{2}^{2} + \\eta_{3}^{2}\\right)\\right) + \\left(- \\epsilon_{c} - 3.0 \\eta_{1} \\lambda_{s} \\left(m_{1}^{2} - 0.333333333333333\\right)\\right) \\left(\\epsilon_{22} - \\epsilon_{a} \\left(\\eta_{1} + \\eta_{3}\\right) - \\epsilon_{c} \\eta_{2} - 1.5 \\lambda_{s} \\left(m_{2}^{2} - 0.333333333333333\\right) \\left(\\eta_{1}^{2} + \\eta_{2}^{2} + \\eta_{3}^{2}\\right)\\right) + \\left(- \\epsilon_{c} - 3.0 \\eta_{1} \\lambda_{s} \\left(m_{1}^{2} - 0.333333333333333\\right)\\right) \\left(\\epsilon_{33} - \\epsilon_{a} \\left(\\eta_{1} + \\eta_{2}\\right) - \\epsilon_{c} \\eta_{3} - 1.5 \\lambda_{s} \\left(m_{3}^{2} - 0.333333333333333\\right) \\left(\\eta_{1}^{2} + \\eta_{2}^{2} + \\eta_{3}^{2}\\right)\\right)\\right) + 2 c_{44} \\left(- 9.0 \\eta_{1} \\lambda_{s} m_{1} m_{2} \\cdot \\left(0.666666666666667 \\epsilon_{12} - \\lambda_{s} m_{1} m_{2} \\left(\\eta_{1}^{2} + \\eta_{2}^{2} + \\eta_{3}^{2}\\right)\\right) - 9.0 \\eta_{1} \\lambda_{s} m_{1} m_{3} \\cdot \\left(0.666666666666667 \\epsilon_{13} - \\lambda_{s} m_{1} m_{3} \\left(\\eta_{1}^{2} + \\eta_{2}^{2} + \\eta_{3}^{2}\\right)\\right) - 9.0 \\eta_{1} \\lambda_{s} m_{2} m_{3} \\cdot \\left(0.666666666666667 \\epsilon_{23} - \\lambda_{s} m_{2} m_{3} \\left(\\eta_{1}^{2} + \\eta_{2}^{2} + \\eta_{3}^{2}\\right)\\right)\\right)$"
      ],
      "text/plain": [
       "0.5*c11*(2.25*(-1.33333333333333*epsilon_a - 4*eta1*lambda_s*(m2**2 - 0.333333333333333))*(0.666666666666667*epsilon_22 - 0.666666666666667*epsilon_a*(eta1 + eta3) - 0.666666666666667*epsilon_c*eta2 - lambda_s*(m2**2 - 0.333333333333333)*(eta1**2 + eta2**2 + eta3**2)) + 2.25*(-1.33333333333333*epsilon_a - 4*eta1*lambda_s*(m3**2 - 0.333333333333333))*(0.666666666666667*epsilon_33 - 0.666666666666667*epsilon_a*(eta1 + eta2) - 0.666666666666667*epsilon_c*eta3 - lambda_s*(m3**2 - 0.333333333333333)*(eta1**2 + eta2**2 + eta3**2)) + 2.25*(-1.33333333333333*epsilon_c - 4*eta1*lambda_s*(m1**2 - 0.333333333333333))*(0.666666666666667*epsilon_11 - 0.666666666666667*epsilon_a*(eta2 + eta3) - 0.666666666666667*epsilon_c*eta1 - lambda_s*(m1**2 - 0.333333333333333)*(eta1**2 + eta2**2 + eta3**2))) + c12*((-epsilon_a - 3.0*eta1*lambda_s*(m2**2 - 0.333333333333333))*(epsilon_11 - epsilon_a*(eta2 + eta3) - epsilon_c*eta1 - 1.5*lambda_s*(m1**2 - 0.333333333333333)*(eta1**2 + eta2**2 + eta3**2)) + (-epsilon_a - 3.0*eta1*lambda_s*(m2**2 - 0.333333333333333))*(epsilon_33 - epsilon_a*(eta1 + eta2) - epsilon_c*eta3 - 1.5*lambda_s*(m3**2 - 0.333333333333333)*(eta1**2 + eta2**2 + eta3**2)) + (-epsilon_a - 3.0*eta1*lambda_s*(m3**2 - 0.333333333333333))*(epsilon_11 - epsilon_a*(eta2 + eta3) - epsilon_c*eta1 - 1.5*lambda_s*(m1**2 - 0.333333333333333)*(eta1**2 + eta2**2 + eta3**2)) + (-epsilon_a - 3.0*eta1*lambda_s*(m3**2 - 0.333333333333333))*(epsilon_22 - epsilon_a*(eta1 + eta3) - epsilon_c*eta2 - 1.5*lambda_s*(m2**2 - 0.333333333333333)*(eta1**2 + eta2**2 + eta3**2)) + (-epsilon_c - 3.0*eta1*lambda_s*(m1**2 - 0.333333333333333))*(epsilon_22 - epsilon_a*(eta1 + eta3) - epsilon_c*eta2 - 1.5*lambda_s*(m2**2 - 0.333333333333333)*(eta1**2 + eta2**2 + eta3**2)) + (-epsilon_c - 3.0*eta1*lambda_s*(m1**2 - 0.333333333333333))*(epsilon_33 - epsilon_a*(eta1 + eta2) - epsilon_c*eta3 - 1.5*lambda_s*(m3**2 - 0.333333333333333)*(eta1**2 + eta2**2 + eta3**2))) + 2*c44*(-9.0*eta1*lambda_s*m1*m2*(0.666666666666667*epsilon_12 - lambda_s*m1*m2*(eta1**2 + eta2**2 + eta3**2)) - 9.0*eta1*lambda_s*m1*m3*(0.666666666666667*epsilon_13 - lambda_s*m1*m3*(eta1**2 + eta2**2 + eta3**2)) - 9.0*eta1*lambda_s*m2*m3*(0.666666666666667*epsilon_23 - lambda_s*m2*m3*(eta1**2 + eta2**2 + eta3**2)))"
      ]
     },
     "execution_count": 6,
     "metadata": {},
     "output_type": "execute_result"
    }
   ],
   "source": [
    "print('eta1')\n",
    "sp.diff(fe,eta1)"
   ]
  },
  {
   "cell_type": "code",
   "execution_count": 7,
   "id": "c8911bad",
   "metadata": {},
   "outputs": [
    {
     "name": "stdout",
     "output_type": "stream",
     "text": [
      "eta2\n"
     ]
    },
    {
     "data": {
      "text/latex": [
       "$\\displaystyle 0.5 c_{11} \\cdot \\left(2.25 \\left(- 1.33333333333333 \\epsilon_{a} - 4 \\eta_{2} \\lambda_{s} \\left(m_{1}^{2} - 0.333333333333333\\right)\\right) \\left(0.666666666666667 \\epsilon_{11} - 0.666666666666667 \\epsilon_{a} \\left(\\eta_{2} + \\eta_{3}\\right) - 0.666666666666667 \\epsilon_{c} \\eta_{1} - \\lambda_{s} \\left(m_{1}^{2} - 0.333333333333333\\right) \\left(\\eta_{1}^{2} + \\eta_{2}^{2} + \\eta_{3}^{2}\\right)\\right) + 2.25 \\left(- 1.33333333333333 \\epsilon_{a} - 4 \\eta_{2} \\lambda_{s} \\left(m_{3}^{2} - 0.333333333333333\\right)\\right) \\left(0.666666666666667 \\epsilon_{33} - 0.666666666666667 \\epsilon_{a} \\left(\\eta_{1} + \\eta_{2}\\right) - 0.666666666666667 \\epsilon_{c} \\eta_{3} - \\lambda_{s} \\left(m_{3}^{2} - 0.333333333333333\\right) \\left(\\eta_{1}^{2} + \\eta_{2}^{2} + \\eta_{3}^{2}\\right)\\right) + 2.25 \\left(- 1.33333333333333 \\epsilon_{c} - 4 \\eta_{2} \\lambda_{s} \\left(m_{2}^{2} - 0.333333333333333\\right)\\right) \\left(0.666666666666667 \\epsilon_{22} - 0.666666666666667 \\epsilon_{a} \\left(\\eta_{1} + \\eta_{3}\\right) - 0.666666666666667 \\epsilon_{c} \\eta_{2} - \\lambda_{s} \\left(m_{2}^{2} - 0.333333333333333\\right) \\left(\\eta_{1}^{2} + \\eta_{2}^{2} + \\eta_{3}^{2}\\right)\\right)\\right) + c_{12} \\left(\\left(- \\epsilon_{a} - 3.0 \\eta_{2} \\lambda_{s} \\left(m_{1}^{2} - 0.333333333333333\\right)\\right) \\left(\\epsilon_{22} - \\epsilon_{a} \\left(\\eta_{1} + \\eta_{3}\\right) - \\epsilon_{c} \\eta_{2} - 1.5 \\lambda_{s} \\left(m_{2}^{2} - 0.333333333333333\\right) \\left(\\eta_{1}^{2} + \\eta_{2}^{2} + \\eta_{3}^{2}\\right)\\right) + \\left(- \\epsilon_{a} - 3.0 \\eta_{2} \\lambda_{s} \\left(m_{1}^{2} - 0.333333333333333\\right)\\right) \\left(\\epsilon_{33} - \\epsilon_{a} \\left(\\eta_{1} + \\eta_{2}\\right) - \\epsilon_{c} \\eta_{3} - 1.5 \\lambda_{s} \\left(m_{3}^{2} - 0.333333333333333\\right) \\left(\\eta_{1}^{2} + \\eta_{2}^{2} + \\eta_{3}^{2}\\right)\\right) + \\left(- \\epsilon_{a} - 3.0 \\eta_{2} \\lambda_{s} \\left(m_{3}^{2} - 0.333333333333333\\right)\\right) \\left(\\epsilon_{11} - \\epsilon_{a} \\left(\\eta_{2} + \\eta_{3}\\right) - \\epsilon_{c} \\eta_{1} - 1.5 \\lambda_{s} \\left(m_{1}^{2} - 0.333333333333333\\right) \\left(\\eta_{1}^{2} + \\eta_{2}^{2} + \\eta_{3}^{2}\\right)\\right) + \\left(- \\epsilon_{a} - 3.0 \\eta_{2} \\lambda_{s} \\left(m_{3}^{2} - 0.333333333333333\\right)\\right) \\left(\\epsilon_{22} - \\epsilon_{a} \\left(\\eta_{1} + \\eta_{3}\\right) - \\epsilon_{c} \\eta_{2} - 1.5 \\lambda_{s} \\left(m_{2}^{2} - 0.333333333333333\\right) \\left(\\eta_{1}^{2} + \\eta_{2}^{2} + \\eta_{3}^{2}\\right)\\right) + \\left(- \\epsilon_{c} - 3.0 \\eta_{2} \\lambda_{s} \\left(m_{2}^{2} - 0.333333333333333\\right)\\right) \\left(\\epsilon_{11} - \\epsilon_{a} \\left(\\eta_{2} + \\eta_{3}\\right) - \\epsilon_{c} \\eta_{1} - 1.5 \\lambda_{s} \\left(m_{1}^{2} - 0.333333333333333\\right) \\left(\\eta_{1}^{2} + \\eta_{2}^{2} + \\eta_{3}^{2}\\right)\\right) + \\left(- \\epsilon_{c} - 3.0 \\eta_{2} \\lambda_{s} \\left(m_{2}^{2} - 0.333333333333333\\right)\\right) \\left(\\epsilon_{33} - \\epsilon_{a} \\left(\\eta_{1} + \\eta_{2}\\right) - \\epsilon_{c} \\eta_{3} - 1.5 \\lambda_{s} \\left(m_{3}^{2} - 0.333333333333333\\right) \\left(\\eta_{1}^{2} + \\eta_{2}^{2} + \\eta_{3}^{2}\\right)\\right)\\right) + 2 c_{44} \\left(- 9.0 \\eta_{2} \\lambda_{s} m_{1} m_{2} \\cdot \\left(0.666666666666667 \\epsilon_{12} - \\lambda_{s} m_{1} m_{2} \\left(\\eta_{1}^{2} + \\eta_{2}^{2} + \\eta_{3}^{2}\\right)\\right) - 9.0 \\eta_{2} \\lambda_{s} m_{1} m_{3} \\cdot \\left(0.666666666666667 \\epsilon_{13} - \\lambda_{s} m_{1} m_{3} \\left(\\eta_{1}^{2} + \\eta_{2}^{2} + \\eta_{3}^{2}\\right)\\right) - 9.0 \\eta_{2} \\lambda_{s} m_{2} m_{3} \\cdot \\left(0.666666666666667 \\epsilon_{23} - \\lambda_{s} m_{2} m_{3} \\left(\\eta_{1}^{2} + \\eta_{2}^{2} + \\eta_{3}^{2}\\right)\\right)\\right)$"
      ],
      "text/plain": [
       "0.5*c11*(2.25*(-1.33333333333333*epsilon_a - 4*eta2*lambda_s*(m1**2 - 0.333333333333333))*(0.666666666666667*epsilon_11 - 0.666666666666667*epsilon_a*(eta2 + eta3) - 0.666666666666667*epsilon_c*eta1 - lambda_s*(m1**2 - 0.333333333333333)*(eta1**2 + eta2**2 + eta3**2)) + 2.25*(-1.33333333333333*epsilon_a - 4*eta2*lambda_s*(m3**2 - 0.333333333333333))*(0.666666666666667*epsilon_33 - 0.666666666666667*epsilon_a*(eta1 + eta2) - 0.666666666666667*epsilon_c*eta3 - lambda_s*(m3**2 - 0.333333333333333)*(eta1**2 + eta2**2 + eta3**2)) + 2.25*(-1.33333333333333*epsilon_c - 4*eta2*lambda_s*(m2**2 - 0.333333333333333))*(0.666666666666667*epsilon_22 - 0.666666666666667*epsilon_a*(eta1 + eta3) - 0.666666666666667*epsilon_c*eta2 - lambda_s*(m2**2 - 0.333333333333333)*(eta1**2 + eta2**2 + eta3**2))) + c12*((-epsilon_a - 3.0*eta2*lambda_s*(m1**2 - 0.333333333333333))*(epsilon_22 - epsilon_a*(eta1 + eta3) - epsilon_c*eta2 - 1.5*lambda_s*(m2**2 - 0.333333333333333)*(eta1**2 + eta2**2 + eta3**2)) + (-epsilon_a - 3.0*eta2*lambda_s*(m1**2 - 0.333333333333333))*(epsilon_33 - epsilon_a*(eta1 + eta2) - epsilon_c*eta3 - 1.5*lambda_s*(m3**2 - 0.333333333333333)*(eta1**2 + eta2**2 + eta3**2)) + (-epsilon_a - 3.0*eta2*lambda_s*(m3**2 - 0.333333333333333))*(epsilon_11 - epsilon_a*(eta2 + eta3) - epsilon_c*eta1 - 1.5*lambda_s*(m1**2 - 0.333333333333333)*(eta1**2 + eta2**2 + eta3**2)) + (-epsilon_a - 3.0*eta2*lambda_s*(m3**2 - 0.333333333333333))*(epsilon_22 - epsilon_a*(eta1 + eta3) - epsilon_c*eta2 - 1.5*lambda_s*(m2**2 - 0.333333333333333)*(eta1**2 + eta2**2 + eta3**2)) + (-epsilon_c - 3.0*eta2*lambda_s*(m2**2 - 0.333333333333333))*(epsilon_11 - epsilon_a*(eta2 + eta3) - epsilon_c*eta1 - 1.5*lambda_s*(m1**2 - 0.333333333333333)*(eta1**2 + eta2**2 + eta3**2)) + (-epsilon_c - 3.0*eta2*lambda_s*(m2**2 - 0.333333333333333))*(epsilon_33 - epsilon_a*(eta1 + eta2) - epsilon_c*eta3 - 1.5*lambda_s*(m3**2 - 0.333333333333333)*(eta1**2 + eta2**2 + eta3**2))) + 2*c44*(-9.0*eta2*lambda_s*m1*m2*(0.666666666666667*epsilon_12 - lambda_s*m1*m2*(eta1**2 + eta2**2 + eta3**2)) - 9.0*eta2*lambda_s*m1*m3*(0.666666666666667*epsilon_13 - lambda_s*m1*m3*(eta1**2 + eta2**2 + eta3**2)) - 9.0*eta2*lambda_s*m2*m3*(0.666666666666667*epsilon_23 - lambda_s*m2*m3*(eta1**2 + eta2**2 + eta3**2)))"
      ]
     },
     "execution_count": 7,
     "metadata": {},
     "output_type": "execute_result"
    }
   ],
   "source": [
    "print('eta2')\n",
    "sp.diff(fe, eta2)"
   ]
  },
  {
   "cell_type": "code",
   "execution_count": 8,
   "id": "051769c0",
   "metadata": {},
   "outputs": [
    {
     "name": "stdout",
     "output_type": "stream",
     "text": [
      "eta3\n"
     ]
    },
    {
     "data": {
      "text/latex": [
       "$\\displaystyle 0.5 c_{11} \\cdot \\left(2.25 \\left(- 1.33333333333333 \\epsilon_{a} - 4 \\eta_{3} \\lambda_{s} \\left(m_{1}^{2} - 0.333333333333333\\right)\\right) \\left(0.666666666666667 \\epsilon_{11} - 0.666666666666667 \\epsilon_{a} \\left(\\eta_{2} + \\eta_{3}\\right) - 0.666666666666667 \\epsilon_{c} \\eta_{1} - \\lambda_{s} \\left(m_{1}^{2} - 0.333333333333333\\right) \\left(\\eta_{1}^{2} + \\eta_{2}^{2} + \\eta_{3}^{2}\\right)\\right) + 2.25 \\left(- 1.33333333333333 \\epsilon_{a} - 4 \\eta_{3} \\lambda_{s} \\left(m_{2}^{2} - 0.333333333333333\\right)\\right) \\left(0.666666666666667 \\epsilon_{22} - 0.666666666666667 \\epsilon_{a} \\left(\\eta_{1} + \\eta_{3}\\right) - 0.666666666666667 \\epsilon_{c} \\eta_{2} - \\lambda_{s} \\left(m_{2}^{2} - 0.333333333333333\\right) \\left(\\eta_{1}^{2} + \\eta_{2}^{2} + \\eta_{3}^{2}\\right)\\right) + 2.25 \\left(- 1.33333333333333 \\epsilon_{c} - 4 \\eta_{3} \\lambda_{s} \\left(m_{3}^{2} - 0.333333333333333\\right)\\right) \\left(0.666666666666667 \\epsilon_{33} - 0.666666666666667 \\epsilon_{a} \\left(\\eta_{1} + \\eta_{2}\\right) - 0.666666666666667 \\epsilon_{c} \\eta_{3} - \\lambda_{s} \\left(m_{3}^{2} - 0.333333333333333\\right) \\left(\\eta_{1}^{2} + \\eta_{2}^{2} + \\eta_{3}^{2}\\right)\\right)\\right) + c_{12} \\left(\\left(- \\epsilon_{a} - 3.0 \\eta_{3} \\lambda_{s} \\left(m_{1}^{2} - 0.333333333333333\\right)\\right) \\left(\\epsilon_{22} - \\epsilon_{a} \\left(\\eta_{1} + \\eta_{3}\\right) - \\epsilon_{c} \\eta_{2} - 1.5 \\lambda_{s} \\left(m_{2}^{2} - 0.333333333333333\\right) \\left(\\eta_{1}^{2} + \\eta_{2}^{2} + \\eta_{3}^{2}\\right)\\right) + \\left(- \\epsilon_{a} - 3.0 \\eta_{3} \\lambda_{s} \\left(m_{1}^{2} - 0.333333333333333\\right)\\right) \\left(\\epsilon_{33} - \\epsilon_{a} \\left(\\eta_{1} + \\eta_{2}\\right) - \\epsilon_{c} \\eta_{3} - 1.5 \\lambda_{s} \\left(m_{3}^{2} - 0.333333333333333\\right) \\left(\\eta_{1}^{2} + \\eta_{2}^{2} + \\eta_{3}^{2}\\right)\\right) + \\left(- \\epsilon_{a} - 3.0 \\eta_{3} \\lambda_{s} \\left(m_{2}^{2} - 0.333333333333333\\right)\\right) \\left(\\epsilon_{11} - \\epsilon_{a} \\left(\\eta_{2} + \\eta_{3}\\right) - \\epsilon_{c} \\eta_{1} - 1.5 \\lambda_{s} \\left(m_{1}^{2} - 0.333333333333333\\right) \\left(\\eta_{1}^{2} + \\eta_{2}^{2} + \\eta_{3}^{2}\\right)\\right) + \\left(- \\epsilon_{a} - 3.0 \\eta_{3} \\lambda_{s} \\left(m_{2}^{2} - 0.333333333333333\\right)\\right) \\left(\\epsilon_{33} - \\epsilon_{a} \\left(\\eta_{1} + \\eta_{2}\\right) - \\epsilon_{c} \\eta_{3} - 1.5 \\lambda_{s} \\left(m_{3}^{2} - 0.333333333333333\\right) \\left(\\eta_{1}^{2} + \\eta_{2}^{2} + \\eta_{3}^{2}\\right)\\right) + \\left(- \\epsilon_{c} - 3.0 \\eta_{3} \\lambda_{s} \\left(m_{3}^{2} - 0.333333333333333\\right)\\right) \\left(\\epsilon_{11} - \\epsilon_{a} \\left(\\eta_{2} + \\eta_{3}\\right) - \\epsilon_{c} \\eta_{1} - 1.5 \\lambda_{s} \\left(m_{1}^{2} - 0.333333333333333\\right) \\left(\\eta_{1}^{2} + \\eta_{2}^{2} + \\eta_{3}^{2}\\right)\\right) + \\left(- \\epsilon_{c} - 3.0 \\eta_{3} \\lambda_{s} \\left(m_{3}^{2} - 0.333333333333333\\right)\\right) \\left(\\epsilon_{22} - \\epsilon_{a} \\left(\\eta_{1} + \\eta_{3}\\right) - \\epsilon_{c} \\eta_{2} - 1.5 \\lambda_{s} \\left(m_{2}^{2} - 0.333333333333333\\right) \\left(\\eta_{1}^{2} + \\eta_{2}^{2} + \\eta_{3}^{2}\\right)\\right)\\right) + 2 c_{44} \\left(- 9.0 \\eta_{3} \\lambda_{s} m_{1} m_{2} \\cdot \\left(0.666666666666667 \\epsilon_{12} - \\lambda_{s} m_{1} m_{2} \\left(\\eta_{1}^{2} + \\eta_{2}^{2} + \\eta_{3}^{2}\\right)\\right) - 9.0 \\eta_{3} \\lambda_{s} m_{1} m_{3} \\cdot \\left(0.666666666666667 \\epsilon_{13} - \\lambda_{s} m_{1} m_{3} \\left(\\eta_{1}^{2} + \\eta_{2}^{2} + \\eta_{3}^{2}\\right)\\right) - 9.0 \\eta_{3} \\lambda_{s} m_{2} m_{3} \\cdot \\left(0.666666666666667 \\epsilon_{23} - \\lambda_{s} m_{2} m_{3} \\left(\\eta_{1}^{2} + \\eta_{2}^{2} + \\eta_{3}^{2}\\right)\\right)\\right)$"
      ],
      "text/plain": [
       "0.5*c11*(2.25*(-1.33333333333333*epsilon_a - 4*eta3*lambda_s*(m1**2 - 0.333333333333333))*(0.666666666666667*epsilon_11 - 0.666666666666667*epsilon_a*(eta2 + eta3) - 0.666666666666667*epsilon_c*eta1 - lambda_s*(m1**2 - 0.333333333333333)*(eta1**2 + eta2**2 + eta3**2)) + 2.25*(-1.33333333333333*epsilon_a - 4*eta3*lambda_s*(m2**2 - 0.333333333333333))*(0.666666666666667*epsilon_22 - 0.666666666666667*epsilon_a*(eta1 + eta3) - 0.666666666666667*epsilon_c*eta2 - lambda_s*(m2**2 - 0.333333333333333)*(eta1**2 + eta2**2 + eta3**2)) + 2.25*(-1.33333333333333*epsilon_c - 4*eta3*lambda_s*(m3**2 - 0.333333333333333))*(0.666666666666667*epsilon_33 - 0.666666666666667*epsilon_a*(eta1 + eta2) - 0.666666666666667*epsilon_c*eta3 - lambda_s*(m3**2 - 0.333333333333333)*(eta1**2 + eta2**2 + eta3**2))) + c12*((-epsilon_a - 3.0*eta3*lambda_s*(m1**2 - 0.333333333333333))*(epsilon_22 - epsilon_a*(eta1 + eta3) - epsilon_c*eta2 - 1.5*lambda_s*(m2**2 - 0.333333333333333)*(eta1**2 + eta2**2 + eta3**2)) + (-epsilon_a - 3.0*eta3*lambda_s*(m1**2 - 0.333333333333333))*(epsilon_33 - epsilon_a*(eta1 + eta2) - epsilon_c*eta3 - 1.5*lambda_s*(m3**2 - 0.333333333333333)*(eta1**2 + eta2**2 + eta3**2)) + (-epsilon_a - 3.0*eta3*lambda_s*(m2**2 - 0.333333333333333))*(epsilon_11 - epsilon_a*(eta2 + eta3) - epsilon_c*eta1 - 1.5*lambda_s*(m1**2 - 0.333333333333333)*(eta1**2 + eta2**2 + eta3**2)) + (-epsilon_a - 3.0*eta3*lambda_s*(m2**2 - 0.333333333333333))*(epsilon_33 - epsilon_a*(eta1 + eta2) - epsilon_c*eta3 - 1.5*lambda_s*(m3**2 - 0.333333333333333)*(eta1**2 + eta2**2 + eta3**2)) + (-epsilon_c - 3.0*eta3*lambda_s*(m3**2 - 0.333333333333333))*(epsilon_11 - epsilon_a*(eta2 + eta3) - epsilon_c*eta1 - 1.5*lambda_s*(m1**2 - 0.333333333333333)*(eta1**2 + eta2**2 + eta3**2)) + (-epsilon_c - 3.0*eta3*lambda_s*(m3**2 - 0.333333333333333))*(epsilon_22 - epsilon_a*(eta1 + eta3) - epsilon_c*eta2 - 1.5*lambda_s*(m2**2 - 0.333333333333333)*(eta1**2 + eta2**2 + eta3**2))) + 2*c44*(-9.0*eta3*lambda_s*m1*m2*(0.666666666666667*epsilon_12 - lambda_s*m1*m2*(eta1**2 + eta2**2 + eta3**2)) - 9.0*eta3*lambda_s*m1*m3*(0.666666666666667*epsilon_13 - lambda_s*m1*m3*(eta1**2 + eta2**2 + eta3**2)) - 9.0*eta3*lambda_s*m2*m3*(0.666666666666667*epsilon_23 - lambda_s*m2*m3*(eta1**2 + eta2**2 + eta3**2)))"
      ]
     },
     "execution_count": 8,
     "metadata": {},
     "output_type": "execute_result"
    }
   ],
   "source": [
    "print('eta3')\n",
    "sp.diff(fe, eta3)"
   ]
  },
  {
   "cell_type": "code",
   "execution_count": 9,
   "id": "42cd0bab",
   "metadata": {},
   "outputs": [],
   "source": [
    "# ignore magnetostriction"
   ]
  },
  {
   "cell_type": "code",
   "execution_count": 10,
   "id": "d56346ae",
   "metadata": {},
   "outputs": [],
   "source": [
    "# our target is to get the experssion of elastic energy related to total strain and other order parameters\n",
    "# For example, magnetization, which will show up in the eigenstrains\n",
    "# experession of eigenstrain\n",
    "# eigenstrain related to phase transformation (in my specifi case)\n",
    "ep0pt11, ep0pt22, ep0pt33, ep0pt12, ep0pt13, ep0pt23 = sp.symbols('epsilon^pt_11, \\\n",
    "                                                                   epsilon^pt_22, \\\n",
    "                                                                   epsilon^pt_33, \\\n",
    "                                                                   epsilon^pt_12, \\\n",
    "                                                                   epsilon^pt_13, \\\n",
    "                                                                   epsilon^pt_23')\n",
    "# phase transition order parameters\n",
    "eta1, eta2, eta3 = sp.symbols('eta1, eta2, eta3')\n",
    "# experssion of eigenstrain related to phase transition\n",
    "param1, param3 = sp.symbols('epsilon_a, epsilon_c')\n",
    "ep0pt11 = param3 * eta1 + param1 * (eta2 + eta3)\n",
    "ep0pt22 = param3 * eta2 + param1 * (eta1 + eta3)\n",
    "ep0pt33 = param3 * eta3 + param1 * (eta1 + eta2)\n",
    "ep0pt12 = 0\n",
    "ep0pt13 = 0\n",
    "ep0pt23 = 0\n",
    "# the total eigenstrain is the sum of the two above\n",
    "# total eigenstrain\n",
    "ep011, ep022, ep033, ep012, ep013, ep023 = sp.symbols('epsilon^0_11, \\\n",
    "                                                       epsilon^0_22, \\\n",
    "                                                       epsilon^0_33, \\\n",
    "                                                       epsilon^0_12, \\\n",
    "                                                       epsilon^0_13, \\\n",
    "                                                       epsilon^0_23')\n",
    "# add two eigenstrains to get the total eigen strain\n",
    "ep011 = ep0pt11\n",
    "ep022 = ep0pt22\n",
    "ep033 = ep0pt33\n",
    "ep012 = ep0pt12\n",
    "ep013 = ep0pt13\n",
    "ep023 = ep0pt23\n",
    "# total strain and elastic strain\n",
    "# total strain\n",
    "ep11, ep22, ep33, ep12, ep13, ep23 = sp.symbols('epsilon_11, \\\n",
    "                                                 epsilon_22, \\\n",
    "                                                 epsilon_33, \\\n",
    "                                                 epsilon_12, \\\n",
    "                                                 epsilon_13, \\\n",
    "                                                 epsilon_23')\n",
    "# elastic strain\n",
    "e11, e22, e33, e12, e13, e23 = sp.symbols('e11, e22, e33, e12, e13, e23')\n",
    "# relationship between elastic strain, total strain and eigenstrain\n",
    "e11 = ep11 - ep011\n",
    "e22 = ep22 - ep022\n",
    "e33 = ep33 - ep033\n",
    "e12 = ep12 - ep012\n",
    "e13 = ep13 - ep013\n",
    "e23 = ep23 - ep023\n",
    "# elastic stiffness\n",
    "c11, c12, c44 = sp.symbols('c11, c12, c44')\n",
    "# expression of elastic energy \n",
    "# (cubic material with three independent elastic constants)\n",
    "fe = 0.5*c11*(e11**2 + e22**2 + e33**2) + \\\n",
    "     c12 * (e11 * e22 + e22 * e33 + e11 * e33) + \\\n",
    "     2 * c44 * (e12**2 + e23**2 + e13**2)\n",
    "\n"
   ]
  },
  {
   "cell_type": "code",
   "execution_count": 11,
   "id": "884bf3ff",
   "metadata": {},
   "outputs": [
    {
     "data": {
      "text/latex": [
       "$\\displaystyle 0.5 c_{11} \\left(\\left(\\epsilon_{11} - \\epsilon_{a} \\left(\\eta_{2} + \\eta_{3}\\right) - \\epsilon_{c} \\eta_{1}\\right)^{2} + \\left(\\epsilon_{22} - \\epsilon_{a} \\left(\\eta_{1} + \\eta_{3}\\right) - \\epsilon_{c} \\eta_{2}\\right)^{2} + \\left(\\epsilon_{33} - \\epsilon_{a} \\left(\\eta_{1} + \\eta_{2}\\right) - \\epsilon_{c} \\eta_{3}\\right)^{2}\\right) + c_{12} \\left(\\left(\\epsilon_{11} - \\epsilon_{a} \\left(\\eta_{2} + \\eta_{3}\\right) - \\epsilon_{c} \\eta_{1}\\right) \\left(\\epsilon_{22} - \\epsilon_{a} \\left(\\eta_{1} + \\eta_{3}\\right) - \\epsilon_{c} \\eta_{2}\\right) + \\left(\\epsilon_{11} - \\epsilon_{a} \\left(\\eta_{2} + \\eta_{3}\\right) - \\epsilon_{c} \\eta_{1}\\right) \\left(\\epsilon_{33} - \\epsilon_{a} \\left(\\eta_{1} + \\eta_{2}\\right) - \\epsilon_{c} \\eta_{3}\\right) + \\left(\\epsilon_{22} - \\epsilon_{a} \\left(\\eta_{1} + \\eta_{3}\\right) - \\epsilon_{c} \\eta_{2}\\right) \\left(\\epsilon_{33} - \\epsilon_{a} \\left(\\eta_{1} + \\eta_{2}\\right) - \\epsilon_{c} \\eta_{3}\\right)\\right) + 2 c_{44} \\left(\\epsilon_{12}^{2} + \\epsilon_{13}^{2} + \\epsilon_{23}^{2}\\right)$"
      ],
      "text/plain": [
       "0.5*c11*((epsilon_11 - epsilon_a*(eta2 + eta3) - epsilon_c*eta1)**2 + (epsilon_22 - epsilon_a*(eta1 + eta3) - epsilon_c*eta2)**2 + (epsilon_33 - epsilon_a*(eta1 + eta2) - epsilon_c*eta3)**2) + c12*((epsilon_11 - epsilon_a*(eta2 + eta3) - epsilon_c*eta1)*(epsilon_22 - epsilon_a*(eta1 + eta3) - epsilon_c*eta2) + (epsilon_11 - epsilon_a*(eta2 + eta3) - epsilon_c*eta1)*(epsilon_33 - epsilon_a*(eta1 + eta2) - epsilon_c*eta3) + (epsilon_22 - epsilon_a*(eta1 + eta3) - epsilon_c*eta2)*(epsilon_33 - epsilon_a*(eta1 + eta2) - epsilon_c*eta3)) + 2*c44*(epsilon_12**2 + epsilon_13**2 + epsilon_23**2)"
      ]
     },
     "execution_count": 11,
     "metadata": {},
     "output_type": "execute_result"
    }
   ],
   "source": [
    "fe"
   ]
  },
  {
   "cell_type": "code",
   "execution_count": 12,
   "id": "eb1f0b94",
   "metadata": {},
   "outputs": [
    {
     "name": "stdout",
     "output_type": "stream",
     "text": [
      "eta1\n"
     ]
    },
    {
     "data": {
      "text/latex": [
       "$\\displaystyle 0.5 c_{11} \\left(- 2 \\epsilon_{a} \\left(\\epsilon_{22} - \\epsilon_{a} \\left(\\eta_{1} + \\eta_{3}\\right) - \\epsilon_{c} \\eta_{2}\\right) - 2 \\epsilon_{a} \\left(\\epsilon_{33} - \\epsilon_{a} \\left(\\eta_{1} + \\eta_{2}\\right) - \\epsilon_{c} \\eta_{3}\\right) - 2 \\epsilon_{c} \\left(\\epsilon_{11} - \\epsilon_{a} \\left(\\eta_{2} + \\eta_{3}\\right) - \\epsilon_{c} \\eta_{1}\\right)\\right) + c_{12} \\left(- 2 \\epsilon_{a} \\left(\\epsilon_{11} - \\epsilon_{a} \\left(\\eta_{2} + \\eta_{3}\\right) - \\epsilon_{c} \\eta_{1}\\right) - \\epsilon_{a} \\left(\\epsilon_{22} - \\epsilon_{a} \\left(\\eta_{1} + \\eta_{3}\\right) - \\epsilon_{c} \\eta_{2}\\right) - \\epsilon_{a} \\left(\\epsilon_{33} - \\epsilon_{a} \\left(\\eta_{1} + \\eta_{2}\\right) - \\epsilon_{c} \\eta_{3}\\right) - \\epsilon_{c} \\left(\\epsilon_{22} - \\epsilon_{a} \\left(\\eta_{1} + \\eta_{3}\\right) - \\epsilon_{c} \\eta_{2}\\right) - \\epsilon_{c} \\left(\\epsilon_{33} - \\epsilon_{a} \\left(\\eta_{1} + \\eta_{2}\\right) - \\epsilon_{c} \\eta_{3}\\right)\\right)$"
      ],
      "text/plain": [
       "0.5*c11*(-2*epsilon_a*(epsilon_22 - epsilon_a*(eta1 + eta3) - epsilon_c*eta2) - 2*epsilon_a*(epsilon_33 - epsilon_a*(eta1 + eta2) - epsilon_c*eta3) - 2*epsilon_c*(epsilon_11 - epsilon_a*(eta2 + eta3) - epsilon_c*eta1)) + c12*(-2*epsilon_a*(epsilon_11 - epsilon_a*(eta2 + eta3) - epsilon_c*eta1) - epsilon_a*(epsilon_22 - epsilon_a*(eta1 + eta3) - epsilon_c*eta2) - epsilon_a*(epsilon_33 - epsilon_a*(eta1 + eta2) - epsilon_c*eta3) - epsilon_c*(epsilon_22 - epsilon_a*(eta1 + eta3) - epsilon_c*eta2) - epsilon_c*(epsilon_33 - epsilon_a*(eta1 + eta2) - epsilon_c*eta3))"
      ]
     },
     "execution_count": 12,
     "metadata": {},
     "output_type": "execute_result"
    }
   ],
   "source": [
    "print('eta1')\n",
    "sp.diff(fe, eta1)"
   ]
  },
  {
   "cell_type": "code",
   "execution_count": 13,
   "id": "4ebcd46a",
   "metadata": {},
   "outputs": [
    {
     "name": "stdout",
     "output_type": "stream",
     "text": [
      "eta2\n"
     ]
    },
    {
     "data": {
      "text/latex": [
       "$\\displaystyle 0.5 c_{11} \\left(- 2 \\epsilon_{a} \\left(\\epsilon_{22} - \\epsilon_{a} \\left(\\eta_{1} + \\eta_{3}\\right) - \\epsilon_{c} \\eta_{2}\\right) - 2 \\epsilon_{a} \\left(\\epsilon_{33} - \\epsilon_{a} \\left(\\eta_{1} + \\eta_{2}\\right) - \\epsilon_{c} \\eta_{3}\\right) - 2 \\epsilon_{c} \\left(\\epsilon_{11} - \\epsilon_{a} \\left(\\eta_{2} + \\eta_{3}\\right) - \\epsilon_{c} \\eta_{1}\\right)\\right) + c_{12} \\left(- 2 \\epsilon_{a} \\left(\\epsilon_{11} - \\epsilon_{a} \\left(\\eta_{2} + \\eta_{3}\\right) - \\epsilon_{c} \\eta_{1}\\right) - \\epsilon_{a} \\left(\\epsilon_{22} - \\epsilon_{a} \\left(\\eta_{1} + \\eta_{3}\\right) - \\epsilon_{c} \\eta_{2}\\right) - \\epsilon_{a} \\left(\\epsilon_{33} - \\epsilon_{a} \\left(\\eta_{1} + \\eta_{2}\\right) - \\epsilon_{c} \\eta_{3}\\right) - \\epsilon_{c} \\left(\\epsilon_{22} - \\epsilon_{a} \\left(\\eta_{1} + \\eta_{3}\\right) - \\epsilon_{c} \\eta_{2}\\right) - \\epsilon_{c} \\left(\\epsilon_{33} - \\epsilon_{a} \\left(\\eta_{1} + \\eta_{2}\\right) - \\epsilon_{c} \\eta_{3}\\right)\\right)$"
      ],
      "text/plain": [
       "0.5*c11*(-2*epsilon_a*(epsilon_22 - epsilon_a*(eta1 + eta3) - epsilon_c*eta2) - 2*epsilon_a*(epsilon_33 - epsilon_a*(eta1 + eta2) - epsilon_c*eta3) - 2*epsilon_c*(epsilon_11 - epsilon_a*(eta2 + eta3) - epsilon_c*eta1)) + c12*(-2*epsilon_a*(epsilon_11 - epsilon_a*(eta2 + eta3) - epsilon_c*eta1) - epsilon_a*(epsilon_22 - epsilon_a*(eta1 + eta3) - epsilon_c*eta2) - epsilon_a*(epsilon_33 - epsilon_a*(eta1 + eta2) - epsilon_c*eta3) - epsilon_c*(epsilon_22 - epsilon_a*(eta1 + eta3) - epsilon_c*eta2) - epsilon_c*(epsilon_33 - epsilon_a*(eta1 + eta2) - epsilon_c*eta3))"
      ]
     },
     "execution_count": 13,
     "metadata": {},
     "output_type": "execute_result"
    }
   ],
   "source": [
    "print('eta2')\n",
    "sp.diff(fe, eta1)"
   ]
  },
  {
   "cell_type": "code",
   "execution_count": 14,
   "id": "58f4fd11",
   "metadata": {},
   "outputs": [
    {
     "name": "stdout",
     "output_type": "stream",
     "text": [
      "eta3\n"
     ]
    },
    {
     "data": {
      "text/latex": [
       "$\\displaystyle 0.5 c_{11} \\left(- 2 \\epsilon_{a} \\left(\\epsilon_{22} - \\epsilon_{a} \\left(\\eta_{1} + \\eta_{3}\\right) - \\epsilon_{c} \\eta_{2}\\right) - 2 \\epsilon_{a} \\left(\\epsilon_{33} - \\epsilon_{a} \\left(\\eta_{1} + \\eta_{2}\\right) - \\epsilon_{c} \\eta_{3}\\right) - 2 \\epsilon_{c} \\left(\\epsilon_{11} - \\epsilon_{a} \\left(\\eta_{2} + \\eta_{3}\\right) - \\epsilon_{c} \\eta_{1}\\right)\\right) + c_{12} \\left(- 2 \\epsilon_{a} \\left(\\epsilon_{11} - \\epsilon_{a} \\left(\\eta_{2} + \\eta_{3}\\right) - \\epsilon_{c} \\eta_{1}\\right) - \\epsilon_{a} \\left(\\epsilon_{22} - \\epsilon_{a} \\left(\\eta_{1} + \\eta_{3}\\right) - \\epsilon_{c} \\eta_{2}\\right) - \\epsilon_{a} \\left(\\epsilon_{33} - \\epsilon_{a} \\left(\\eta_{1} + \\eta_{2}\\right) - \\epsilon_{c} \\eta_{3}\\right) - \\epsilon_{c} \\left(\\epsilon_{22} - \\epsilon_{a} \\left(\\eta_{1} + \\eta_{3}\\right) - \\epsilon_{c} \\eta_{2}\\right) - \\epsilon_{c} \\left(\\epsilon_{33} - \\epsilon_{a} \\left(\\eta_{1} + \\eta_{2}\\right) - \\epsilon_{c} \\eta_{3}\\right)\\right)$"
      ],
      "text/plain": [
       "0.5*c11*(-2*epsilon_a*(epsilon_22 - epsilon_a*(eta1 + eta3) - epsilon_c*eta2) - 2*epsilon_a*(epsilon_33 - epsilon_a*(eta1 + eta2) - epsilon_c*eta3) - 2*epsilon_c*(epsilon_11 - epsilon_a*(eta2 + eta3) - epsilon_c*eta1)) + c12*(-2*epsilon_a*(epsilon_11 - epsilon_a*(eta2 + eta3) - epsilon_c*eta1) - epsilon_a*(epsilon_22 - epsilon_a*(eta1 + eta3) - epsilon_c*eta2) - epsilon_a*(epsilon_33 - epsilon_a*(eta1 + eta2) - epsilon_c*eta3) - epsilon_c*(epsilon_22 - epsilon_a*(eta1 + eta3) - epsilon_c*eta2) - epsilon_c*(epsilon_33 - epsilon_a*(eta1 + eta2) - epsilon_c*eta3))"
      ]
     },
     "execution_count": 14,
     "metadata": {},
     "output_type": "execute_result"
    }
   ],
   "source": [
    "print('eta3')\n",
    "sp.diff(fe, eta1)"
   ]
  }
 ],
 "metadata": {
  "kernelspec": {
   "display_name": "Python 3 (ipykernel)",
   "language": "python",
   "name": "python3"
  },
  "language_info": {
   "codemirror_mode": {
    "name": "ipython",
    "version": 3
   },
   "file_extension": ".py",
   "mimetype": "text/x-python",
   "name": "python",
   "nbconvert_exporter": "python",
   "pygments_lexer": "ipython3",
   "version": "3.8.13"
  }
 },
 "nbformat": 4,
 "nbformat_minor": 5
}
